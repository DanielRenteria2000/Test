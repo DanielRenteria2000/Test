{
 "cells": [
  {
   "cell_type": "markdown",
   "id": "a96994aa-1211-4a91-8585-43f71277b69e",
   "metadata": {},
   "source": [
    "# Data Science Tools and Ecosystem\n"
   ]
  },
  {
   "cell_type": "markdown",
   "id": "d65fd304-08fa-4437-96fc-63bae4d6f23a",
   "metadata": {},
   "source": [
    "_In this notebook, Data Science Tools and Ecosystem are summarized._\n"
   ]
  },
  {
   "cell_type": "markdown",
   "id": "c36b6d3f-d16e-44f6-83ed-e5e569ff9d87",
   "metadata": {},
   "source": [
    "__Objectives:__\n",
    "- Find what are the popular languajes for Data Scientists\n",
    "- Know common libraries used by Data Scientists\n",
    "- Explore some Data Science Tools"
   ]
  },
  {
   "cell_type": "markdown",
   "id": "eee20e5e-455d-4bc2-bdfe-15b89d7a39d2",
   "metadata": {},
   "source": [
    "Some of the popular languages that Data Scientists use are:\n"
   ]
  },
  {
   "cell_type": "markdown",
   "id": "a83aa72d-59d2-4f08-91ad-d15599488bda",
   "metadata": {},
   "source": [
    "1. R\n",
    "2. Python\n",
    "3. Java\n",
    "4. SQL\n",
    "5. C\n",
    "6. C++\n",
    "7. Julia"
   ]
  },
  {
   "cell_type": "markdown",
   "id": "6f824971-3a4d-4023-8205-63840a2e307b",
   "metadata": {},
   "source": [
    "Some of the commonly used libraries used by Data Scientists include:"
   ]
  },
  {
   "cell_type": "markdown",
   "id": "aaf3d356-21b0-4e33-88d8-46b3feb8a760",
   "metadata": {},
   "source": [
    "1. NumPy\n",
    "2. Panda\n",
    "3. Matplotlib\n",
    "4. Scikit-Learn"
   ]
  },
  {
   "cell_type": "markdown",
   "id": "e81f15fb-a9f2-40c3-b14e-7d24bf2b113d",
   "metadata": {},
   "source": [
    "|Data Science Tools|\n",
    "|----|\n",
    "|Ananconda|\n",
    "|Jupyter Notebooks|\n",
    "|RStudio|\n"
   ]
  },
  {
   "cell_type": "markdown",
   "id": "2a53c2af-c731-47a5-9b4e-a1911027c729",
   "metadata": {},
   "source": [
    "### Below are a few examples of evaluating arithmetic expressions in Python"
   ]
  },
  {
   "cell_type": "code",
   "execution_count": 5,
   "id": "0c1b479b-ee81-48c5-97a6-b406deeb27a8",
   "metadata": {},
   "outputs": [
    {
     "data": {
      "text/plain": [
       "17"
      ]
     },
     "execution_count": 5,
     "metadata": {},
     "output_type": "execute_result"
    }
   ],
   "source": [
    "# This a simple arithmetic expression to mutiply then add integers\n",
    "(3*4)+5"
   ]
  },
  {
   "cell_type": "code",
   "execution_count": 15,
   "id": "7721825d-43dc-4e69-90bb-2fabe10986a5",
   "metadata": {},
   "outputs": [
    {
     "data": {
      "text/plain": [
       "3.3333333333333335"
      ]
     },
     "execution_count": 15,
     "metadata": {},
     "output_type": "execute_result"
    }
   ],
   "source": [
    "#  This will convert 200 minutes to hours by diving by 60\n",
    "200/60"
   ]
  },
  {
   "cell_type": "markdown",
   "id": "de838e54-f78e-4745-9eb4-95b7182cfed3",
   "metadata": {},
   "source": [
    "## Author\n",
    "Daniel Renteria"
   ]
  },
  {
   "cell_type": "code",
   "execution_count": null,
   "id": "6182c9d8-c226-4b88-992b-b1f928a2af6d",
   "metadata": {},
   "outputs": [],
   "source": []
  }
 ],
 "metadata": {
  "kernelspec": {
   "display_name": "Python 3 (ipykernel)",
   "language": "python",
   "name": "python3"
  },
  "language_info": {
   "codemirror_mode": {
    "name": "ipython",
    "version": 3
   },
   "file_extension": ".py",
   "mimetype": "text/x-python",
   "name": "python",
   "nbconvert_exporter": "python",
   "pygments_lexer": "ipython3",
   "version": "3.12.11"
  }
 },
 "nbformat": 4,
 "nbformat_minor": 5
}
